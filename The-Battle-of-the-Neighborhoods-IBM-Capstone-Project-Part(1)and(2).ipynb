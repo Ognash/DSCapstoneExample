{
 "cells": [
  {
   "cell_type": "markdown",
   "metadata": {},
   "source": [
    "<h1><center>North Carolina Neighborhoods</center></h1>\n"
   ]
  },
  {
   "cell_type": "markdown",
   "metadata": {},
   "source": [
    "<img src=\"https://habitatnc.org/wp-content/uploads/2018/04/NC-state-and-flag.jpg\" alt=\"Drawing\" style=\"width: 300px;\"/>"
   ]
  },
  {
   "cell_type": "markdown",
   "metadata": {},
   "source": [
    "<h1><center>The Battle of the Neighborhoods - IBM Capstone Project</center></h1>"
   ]
  },
  {
   "cell_type": "markdown",
   "metadata": {},
   "source": [
    "<img src=\"https://images.fineartamerica.com/images-medium-large-5/busy-charlotte-night-chris-austin.jpg\" alt=\"Drawing\" style=\"width: 1000px;\"/>"
   ]
  },
  {
   "cell_type": "markdown",
   "metadata": {},
   "source": [
    "## 1. Introduction:\n",
    "\n",
    "<i> Discussion of the business problem and the audience who would be interested in this project.</i>\n",
    "\n",
    "#### 1.1 Scenario and Background"
   ]
  },
  {
   "cell_type": "markdown",
   "metadata": {},
   "source": [
    "I am a BI Developer and currently live within walking distance to Downtown Union Station in Denver, Colorado and have an easy commute to work with access to good public transportation. Likewise, I enjoy many amenities in the neighborhood that includes sports bars, restaurants, basketball courts, food and drink shops and entertainment areas. \n",
    "\n",
    "I have been thinking of moving to North Carolina but I am a bit stressed towards the process to secure a comparable place to live in Raleigh or Charlotte. Therefore, I decided to apply my learned skills in the IBM Cognitive Class for Data Science to explore ways to make sure my decision can be rewarding. Of course, there are alternatives to achieve the answer using available Google and Social media tools, but I thought digging more into the raw data of the state would be rewarding as it would give me a clear picture of what i might face with decision."
   ]
  },
  {
   "cell_type": "markdown",
   "metadata": {},
   "source": [
    "On finding the best spot to live, a great deal of things are viewed as when settling on the choice between urban areas, towns, or neighborhoods. Some of propositions incorporate, but not limited to: \n",
    "\n",
    "##### Overall Comparison: \n",
    "- The correlation of similar components for every city, bringing about having a general diagram of the two urban areas. A portion of the prevalent components incorporate populace, typical cost for basic items, normal lease, wrongdoing rate, charge rates, and air quality. \n",
    "\n",
    "##### Crime Rates: \n",
    "- Here, the correlation is made to realize the crimes of two urban communities, at that point estimates them both against the national statistics. \n",
    "\n",
    "##### Cost of Living and Salary: \n",
    "- Comparison: This considers looking at pay rates and typical cost for basic items in urban areas for a choice to be made.  It mostly takes into consideration test scores and teacher and student ratios, including the teacher's experience of the lists schools in the city of your choice.\n",
    "\n",
    "##### Neighborhood Comparison: \n",
    "- This looks at neighborhood comparison and helps one choose the best place to live within any given city. These sites allow you to see some pretty interesting facts about the various communities."
   ]
  },
  {
   "cell_type": "markdown",
   "metadata": {},
   "source": [
    "#### 1.2 Problem and Purpose of this Project"
   ]
  },
  {
   "cell_type": "markdown",
   "metadata": {},
   "source": [
    "The dataset incorporates the coordinates of the cities and neighborhoods in the USA. The datasets does not include the venues within these locations. With venue information, it would  be easy to find out more information about the neighborhoods. For example, how many sports bars and restaurants there are, and any basketball courts or playgrounds? We could also need to find out about any banks and food and drink shops? It would better comprehend or settle on good choice about where to move or migrate to if this data was accessible.\n",
    "\n",
    "Subsequently, the reason for this project is to, algorithmically, find a way to use the location coordinates and tag each data point into a neighborhood in **two Counties in North Carolina-Wake County and Mecklenburg County**. The algorithm used is k-means clustering. The main idea is to determine neighborhood with venues clustered around each other so that one can make a decision on the right neighborhood to chose based on the proximity of amenities and venues to each other."
   ]
  },
  {
   "cell_type": "markdown",
   "metadata": {},
   "source": [
    "##### A. Clustering the Neighborhoods\n",
    "The k-means clustering algorithm is an unsupervised clustering technique searches for a pre-determined number of clusters within an unlabeled multidimensional dataset. It accomplishes this using a simple conception of what the optimal clustering looks like:\n",
    "\n",
    "- The \"cluster center\" is the arithmetic mean of all the points belonging to the cluster.\n",
    "- Each point is closer to its own cluster center than to other cluster centers in the dataset.\n",
    "\n",
    "The two assumptions above are presumably the basis of the k-means model."
   ]
  },
  {
   "cell_type": "markdown",
   "metadata": {},
   "source": [
    "#### 1.3 Interested Audience\n",
    "\n",
    "Information discovered in this project is useful to any person or entity considering moving to a major around the United States or anywhere in the world, since the approach and methodologies used here are applicable in all cases. The use of FourSquare data and mapping techniques combined with data analysis will help resolve the key questions arisen.\n",
    "\n",
    "**NB**: <i>While all of these analyses are useful for comparing the neighborhoods, there is nothing like visiting the actual city, seeing the neighborhoods, and talking to the residents. If it's possible, an in-person visit is highly recommended before making a big move or relocating decision.</i>"
   ]
  },
  {
   "cell_type": "markdown",
   "metadata": {},
   "source": [
    "## 2. Data:"
   ]
  },
  {
   "cell_type": "markdown",
   "metadata": {},
   "source": [
    "<i>Description of the data and its sources that will be used to solve the problem</i>"
   ]
  },
  {
   "cell_type": "markdown",
   "metadata": {},
   "source": [
    "The dataset for this project consists of information regarding the cities in the USA obtained from https://simplemaps.com/data/us-cities. Specifically, the data contain: **City Name, County Code, County Name, Density, Id, Latitude, Longitude, Source, State Id, State Name, and Timezone**. I used business intelligence tools for geocoding the data to obtain the correct coordinates. The data was then exported and converted into a .json, read into a pandas dataframe and sliced into Wake and Meclenburg data for use in the project. \n",
    "\n",
    "In addition to this data, the Foursquare API will be used to collect venues near the neighborhoods for cluster analysis to be performed on the data."
   ]
  },
  {
   "cell_type": "code",
   "execution_count": 12,
   "metadata": {},
   "outputs": [
    {
     "name": "stdout",
     "output_type": "stream",
     "text": [
      "Libraries imported.\n"
     ]
    }
   ],
   "source": [
    "import pandas as pd # library for data analsysis\n",
    "print('Libraries imported.')"
   ]
  },
  {
   "cell_type": "code",
   "execution_count": 14,
   "metadata": {},
   "outputs": [
    {
     "name": "stdout",
     "output_type": "stream",
     "text": [
      "The dataframe has (28889, 13) rows and columns respectively.\n"
     ]
    },
    {
     "data": {
      "text/html": [
       "<div>\n",
       "<style scoped>\n",
       "    .dataframe tbody tr th:only-of-type {\n",
       "        vertical-align: middle;\n",
       "    }\n",
       "\n",
       "    .dataframe tbody tr th {\n",
       "        vertical-align: top;\n",
       "    }\n",
       "\n",
       "    .dataframe thead th {\n",
       "        text-align: right;\n",
       "    }\n",
       "</style>\n",
       "<table border=\"1\" class=\"dataframe\">\n",
       "  <thead>\n",
       "    <tr style=\"text-align: right;\">\n",
       "      <th></th>\n",
       "      <th>Number of Records</th>\n",
       "      <th>City</th>\n",
       "      <th>County Name</th>\n",
       "      <th>Density</th>\n",
       "      <th>Id</th>\n",
       "      <th>Lat</th>\n",
       "      <th>Lng</th>\n",
       "      <th>Population</th>\n",
       "      <th>Ranking</th>\n",
       "      <th>State Id</th>\n",
       "      <th>State Name</th>\n",
       "      <th>Timezone</th>\n",
       "      <th>Zip</th>\n",
       "    </tr>\n",
       "  </thead>\n",
       "  <tbody>\n",
       "    <tr>\n",
       "      <td>0</td>\n",
       "      <td>1</td>\n",
       "      <td>South Creek</td>\n",
       "      <td>Pierce</td>\n",
       "      <td>125</td>\n",
       "      <td>1840116412</td>\n",
       "      <td>46.9994</td>\n",
       "      <td>-122.3921</td>\n",
       "      <td>2500</td>\n",
       "      <td>3</td>\n",
       "      <td>WA</td>\n",
       "      <td>Washington</td>\n",
       "      <td>America/Los_Angeles</td>\n",
       "      <td>98580</td>\n",
       "    </tr>\n",
       "    <tr>\n",
       "      <td>1</td>\n",
       "      <td>1</td>\n",
       "      <td>Roslyn</td>\n",
       "      <td>Kittitas</td>\n",
       "      <td>84</td>\n",
       "      <td>1840097718</td>\n",
       "      <td>47.2507</td>\n",
       "      <td>-121.0989</td>\n",
       "      <td>947</td>\n",
       "      <td>3</td>\n",
       "      <td>WA</td>\n",
       "      <td>Washington</td>\n",
       "      <td>America/Los_Angeles</td>\n",
       "      <td>98941</td>\n",
       "    </tr>\n",
       "    <tr>\n",
       "      <td>2</td>\n",
       "      <td>1</td>\n",
       "      <td>Sprague</td>\n",
       "      <td>Lincoln</td>\n",
       "      <td>163</td>\n",
       "      <td>1840096300</td>\n",
       "      <td>47.3048</td>\n",
       "      <td>-117.9713</td>\n",
       "      <td>441</td>\n",
       "      <td>3</td>\n",
       "      <td>WA</td>\n",
       "      <td>Washington</td>\n",
       "      <td>America/Los_Angeles</td>\n",
       "      <td>99032</td>\n",
       "    </tr>\n",
       "    <tr>\n",
       "      <td>3</td>\n",
       "      <td>1</td>\n",
       "      <td>Gig Harbor</td>\n",
       "      <td>Pierce</td>\n",
       "      <td>622</td>\n",
       "      <td>1840097082</td>\n",
       "      <td>47.3352</td>\n",
       "      <td>-122.5968</td>\n",
       "      <td>9507</td>\n",
       "      <td>3</td>\n",
       "      <td>WA</td>\n",
       "      <td>Washington</td>\n",
       "      <td>America/Los_Angeles</td>\n",
       "      <td>98332</td>\n",
       "    </tr>\n",
       "    <tr>\n",
       "      <td>4</td>\n",
       "      <td>1</td>\n",
       "      <td>Lake Cassidy</td>\n",
       "      <td>Snohomish</td>\n",
       "      <td>131</td>\n",
       "      <td>1840116371</td>\n",
       "      <td>48.0639</td>\n",
       "      <td>-122.0920</td>\n",
       "      <td>3591</td>\n",
       "      <td>3</td>\n",
       "      <td>WA</td>\n",
       "      <td>Washington</td>\n",
       "      <td>America/Los_Angeles</td>\n",
       "      <td>98223</td>\n",
       "    </tr>\n",
       "  </tbody>\n",
       "</table>\n",
       "</div>"
      ],
      "text/plain": [
       "   Number of Records          City County Name Density          Id      Lat  \\\n",
       "0                  1   South Creek      Pierce     125  1840116412  46.9994   \n",
       "1                  1        Roslyn    Kittitas      84  1840097718  47.2507   \n",
       "2                  1       Sprague     Lincoln     163  1840096300  47.3048   \n",
       "3                  1    Gig Harbor      Pierce     622  1840097082  47.3352   \n",
       "4                  1  Lake Cassidy   Snohomish     131  1840116371  48.0639   \n",
       "\n",
       "        Lng  Population  Ranking State Id  State Name             Timezone  \\\n",
       "0 -122.3921        2500        3       WA  Washington  America/Los_Angeles   \n",
       "1 -121.0989         947        3       WA  Washington  America/Los_Angeles   \n",
       "2 -117.9713         441        3       WA  Washington  America/Los_Angeles   \n",
       "3 -122.5968        9507        3       WA  Washington  America/Los_Angeles   \n",
       "4 -122.0920        3591        3       WA  Washington  America/Los_Angeles   \n",
       "\n",
       "     Zip  \n",
       "0  98580  \n",
       "1  98941  \n",
       "2  99032  \n",
       "3  98332  \n",
       "4  98223  "
      ]
     },
     "execution_count": 14,
     "metadata": {},
     "output_type": "execute_result"
    }
   ],
   "source": [
    "cities_data = \"uscitiescleaned.json\"\n",
    "df = pd.read_json(cities_data, orient='columns')\n",
    "print('The dataframe has', df.shape, 'rows and columns respectively.')\n",
    "df.head()"
   ]
  },
  {
   "cell_type": "markdown",
   "metadata": {},
   "source": [
    "### 3. Methodology:"
   ]
  },
  {
   "cell_type": "code",
   "execution_count": null,
   "metadata": {},
   "outputs": [],
   "source": []
  },
  {
   "cell_type": "code",
   "execution_count": null,
   "metadata": {},
   "outputs": [],
   "source": []
  },
  {
   "cell_type": "code",
   "execution_count": null,
   "metadata": {},
   "outputs": [],
   "source": []
  }
 ],
 "metadata": {
  "kernelspec": {
   "display_name": "Python",
   "language": "python",
   "name": "conda-env-python-py"
  },
  "language_info": {
   "codemirror_mode": {
    "name": "ipython",
    "version": 3
   },
   "file_extension": ".py",
   "mimetype": "text/x-python",
   "name": "python",
   "nbconvert_exporter": "python",
   "pygments_lexer": "ipython3",
   "version": "3.6.7"
  }
 },
 "nbformat": 4,
 "nbformat_minor": 4
}
